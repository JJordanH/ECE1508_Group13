{
 "cells": [
  {
   "cell_type": "code",
   "execution_count": 1,
   "id": "d0268395",
   "metadata": {},
   "outputs": [],
   "source": [
    "import pandas as pd\n",
    "from langchain_core.documents import Document as LangchainDocument\n",
    "from langchain_huggingface import HuggingFaceEmbeddings\n",
    "from langchain_community.vectorstores import FAISS\n",
    "from langchain_text_splitters import RecursiveCharacterTextSplitter\n",
    "from langchain_community.vectorstores.utils import DistanceStrategy\n",
    "from sentence_transformers import SentenceTransformer\n",
    "from transformers import (\n",
    "    AutoTokenizer,\n",
    ")\n",
    "\n",
    "import matplotlib.pyplot as plt\n",
    "from tqdm.notebook import tqdm\n",
    "from typing import List, Optional\n",
    "import pickle\n",
    "import time"
   ]
  },
  {
   "cell_type": "code",
   "execution_count": 2,
   "id": "99e0d5ad",
   "metadata": {},
   "outputs": [],
   "source": [
    "test_data= pd.read_json(\"../qa/wikipedia-dev.json\")"
   ]
  },
  {
   "cell_type": "code",
   "execution_count": 3,
   "id": "0b5a0ba4",
   "metadata": {},
   "outputs": [
    {
     "name": "stdout",
     "output_type": "stream",
     "text": [
      "Test set size: 7993\n"
     ]
    }
   ],
   "source": [
    "print(f\"Test set size: {len(test_data)}\")"
   ]
  },
  {
   "cell_type": "code",
   "execution_count": 4,
   "id": "fac6d699",
   "metadata": {},
   "outputs": [],
   "source": [
    "#Build a list of docs from the downloaded Wikipedia documents\n",
    "def getDocs(examples):\n",
    "    # List of docs\n",
    "    docs = []\n",
    "    # Extracting metadata and filenames from the examples (training data)\n",
    "    for example in examples[\"Data\"]:\n",
    "        filename = example[\"EntityPages\"][0][\"Filename\"]\n",
    "        with open(f\"..//evidence/wikipedia/{filename}\", \"r\") as file:\n",
    "            context_text = file.read()\n",
    "        # Create a Document for RAG\n",
    "        newDoc = LangchainDocument(\n",
    "                metadata={\n",
    "                    'question_id': example['QuestionId'],\n",
    "                    'source': example['EntityPages'][0]['DocSource'],\n",
    "                    'answer_type': example['Answer']['Type'],\n",
    "                    'entity_name': example['Answer'].get('NormalizedValue', ''), # Default to empty string if missing\n",
    "                    'aliases': example['Answer'].get('Aliases', []), # Default to empty list if missing\n",
    "                    'normalized_value': example['Answer'].get('NormalizedValue', ''), # Default to empty string if missing\n",
    "                    'filename': example['EntityPages'][0]['Filename'],\n",
    "                },\n",
    "                page_content=context_text\n",
    "        )\n",
    "        docs.append(newDoc)\n",
    "    return docs"
   ]
  },
  {
   "cell_type": "code",
   "execution_count": 5,
   "id": "91d9157a",
   "metadata": {},
   "outputs": [],
   "source": [
    "RAW_KNOWLEDGE_BASE = getDocs(test_data)"
   ]
  },
  {
   "cell_type": "code",
   "execution_count": 7,
   "id": "57d2a165",
   "metadata": {},
   "outputs": [],
   "source": [
    "EMBEDDING_MODEL_NAME = \"thenlper/gte-small\"\n",
    "def split_documents(chunk_size: int, knowledge_base: List[LangchainDocument], tokenizer_name: Optional[str] = EMBEDDING_MODEL_NAME):\n",
    "    tokenizer = AutoTokenizer.from_pretrained(tokenizer_name)\n",
    "\n",
    "    TRIVIAQA_SEPARATORS = [\n",
    "        \"\\n\\n\", \"\\n\", \". \", \"? \", \"! \", \"; \", \": \", \", \", \" \", \"\"\n",
    "    ]\n",
    "\n",
    "    text_splitter = RecursiveCharacterTextSplitter.from_huggingface_tokenizer(\n",
    "        tokenizer,\n",
    "        chunk_size=chunk_size,\n",
    "        chunk_overlap=int(chunk_size / 10),\n",
    "        add_start_index=True,\n",
    "        strip_whitespace=True,\n",
    "        separators=TRIVIAQA_SEPARATORS,\n",
    "    )\n",
    "\n",
    "    docs_processed = []\n",
    "    for doc in tqdm(knowledge_base, desc=\"Splitting documents\"):\n",
    "        chunks = text_splitter.split_documents([doc])\n",
    "        docs_processed.extend(chunks)\n",
    "\n",
    "    unique_texts = {}\n",
    "    docs_processed_unique = []\n",
    "    for doc in tqdm(docs_processed, desc=\"Removing duplicates\"):\n",
    "        if doc.page_content not in unique_texts:\n",
    "            unique_texts[doc.page_content] = True\n",
    "            docs_processed_unique.append(doc)\n",
    "\n",
    "    return docs_processed_unique\n"
   ]
  },
  {
   "cell_type": "code",
   "execution_count": 8,
   "id": "8b0713d1",
   "metadata": {},
   "outputs": [
    {
     "data": {
      "application/vnd.jupyter.widget-view+json": {
       "model_id": "3e5deba557fa47f28b15894b96c32f7e",
       "version_major": 2,
       "version_minor": 0
      },
      "text/plain": [
       "Splitting documents:   0%|          | 0/7993 [00:00<?, ?it/s]"
      ]
     },
     "metadata": {},
     "output_type": "display_data"
    },
    {
     "data": {
      "application/vnd.jupyter.widget-view+json": {
       "model_id": "a4493d0847b44bddad9b9361a4adf25c",
       "version_major": 2,
       "version_minor": 0
      },
      "text/plain": [
       "Removing duplicates:   0%|          | 0/289182 [00:00<?, ?it/s]"
      ]
     },
     "metadata": {},
     "output_type": "display_data"
    }
   ],
   "source": [
    "# Use 250 token chunk size\n",
    "docs_processed = split_documents(250, RAW_KNOWLEDGE_BASE, tokenizer_name=EMBEDDING_MODEL_NAME)\n",
    "\n",
    "# Save the processed chunks\n",
    "with open(\"test_data_saved/test_docs_processed_250.pkl\", \"wb\") as file:\n",
    "    pickle.dump(docs_processed, file)"
   ]
  },
  {
   "cell_type": "code",
   "execution_count": 9,
   "id": "2ac18665",
   "metadata": {},
   "outputs": [
    {
     "data": {
      "application/vnd.jupyter.widget-view+json": {
       "model_id": "10a46fdb888c498d8857d360183c4541",
       "version_major": 2,
       "version_minor": 0
      },
      "text/plain": [
       "  0%|          | 0/184879 [00:00<?, ?it/s]"
      ]
     },
     "metadata": {},
     "output_type": "display_data"
    },
    {
     "data": {
      "image/png": "[encoded data removed]",
      "text/plain": [
       "<Figure size 640x480 with 1 Axes>"
      ]
     },
     "metadata": {},
     "output_type": "display_data"
    }
   ],
   "source": [
    "# Plot the chunk length distribution\n",
    "tokenizer = AutoTokenizer.from_pretrained(EMBEDDING_MODEL_NAME)\n",
    "lengths = [len(tokenizer.encode(doc.page_content)) for doc in tqdm(docs_processed)]\n",
    "pd.Series(lengths).hist()\n",
    "plt.title(\"Distribution of document lengths (250-token chunks)\")\n",
    "plt.show()"
   ]
  },
  {
   "cell_type": "code",
   "execution_count": 10,
   "id": "02b82b8e",
   "metadata": {},
   "outputs": [],
   "source": [
    "# Build and save FAISS index\n",
    "embedding_model = HuggingFaceEmbeddings(\n",
    "    model_name=EMBEDDING_MODEL_NAME,\n",
    "    multi_process=True,\n",
    "    model_kwargs={\"device\": \"cuda\"},\n",
    "    encode_kwargs={\"normalize_embeddings\": True},\n",
    ")"
   ]
  },
  {
   "cell_type": "code",
   "execution_count": 11,
   "id": "fc72d1f1",
   "metadata": {},
   "outputs": [],
   "source": [
    "KNOWLEDGE_VECTOR_DATABASE = FAISS.from_documents(docs_processed, embedding_model, distance_strategy=DistanceStrategy.COSINE)\n",
    "KNOWLEDGE_VECTOR_DATABASE.save_local(\"test_data_saved/Faiss_250\")"
   ]
  },
  {
   "cell_type": "code",
   "execution_count": 12,
   "id": "9c8c93eb",
   "metadata": {},
   "outputs": [
    {
     "name": "stdout",
     "output_type": "stream",
     "text": [
      "\n",
      "Starting retrieval for user_query='Which Lloyd Webber musical premiered in the US on 10th December 1993?'...\n",
      "\n",
      "==================================Top 1 document==================================\n",
      "Andrew Lloyd Webber, Baron Lloyd-Webber   (born 22 March 1948) is an English composer and impresario of musical theatre. \n",
      "\n",
      "Several of his musicals have run for more than a decade both in the West End and on Broadway. He has composed 13 musicals, a song cycle, a set of variations, two film scores, and a Latin Requiem Mass. Several of his songs have been widely recorded and were hits outside of their parent musicals, notably \"The Music of the Night\" from The Phantom of the Opera, \"I Don't Know How to Love Him\" from Jesus Christ Superstar, \"Don't Cry for Me, Argentina\" and \"You Must Love Me\" from Evita, \"Any Dream Will Do\" from Joseph and the Amazing Technicolor Dreamcoat and \"Memory\" from Cats.\n",
      "==================================Metadata==================================\n",
      "{'question_id': 'tc_33', 'source': 'TagMe', 'answer_type': 'WikipediaEntity', 'entity_name': 'sunset boulevard', 'aliases': ['Sunset Blvd', 'West Sunset Boulevard', 'Sunset Boulevard', 'Sunset Bulevard', 'Sunset Blvd.'], 'normalized_value': 'sunset boulevard', 'filename': 'Andrew_Lloyd_Webber.txt', 'start_index': 0}\n",
      "\n",
      "==================================Top 2 document==================================\n",
      "1990s\n",
      "\n",
      "Lloyd Webber was asked to write a song for the 1992 Barcelona Olympics and composed \"Amigos Para Siempre — Friends for Life\" with Don Black providing the lyrics. This song was performed by Sarah Brightman and José Carreras.\n",
      "\n",
      "Lloyd Webber had toyed with the idea of writing a musical based on Billy Wilder's critically acclaimed movie, Sunset Boulevard, since the early 1970s when he saw the film, but the project didn't come to fruition until after the completion of Aspects of Love when the composer finally managed to secure the rights from Paramount Pictures,  The composer worked with two collaborators, as he had done on Aspects of Love; this time Christopher Hampton and Don Black shared equal credit for the book and lyrics. The show opened at the Adelphi Theatre in London on 12 July 1993, and ran for 1,529 performances. In spite of the show's popularity and extensive run in London's West End, it lost money due to the sheer expense of the production.\n",
      "==================================Metadata==================================\n",
      "{'question_id': 'tc_33', 'source': 'TagMe', 'answer_type': 'WikipediaEntity', 'entity_name': 'sunset boulevard', 'aliases': ['Sunset Blvd', 'West Sunset Boulevard', 'Sunset Boulevard', 'Sunset Bulevard', 'Sunset Blvd.'], 'normalized_value': 'sunset boulevard', 'filename': 'Andrew_Lloyd_Webber.txt', 'start_index': 10543}\n"
     ]
    }
   ],
   "source": [
    "user_query = \"Which Lloyd Webber musical premiered in the US on 10th December 1993?\"\n",
    "print(f\"\\nStarting retrieval for {user_query=}...\")\n",
    "retrieved_docs = KNOWLEDGE_VECTOR_DATABASE.similarity_search(query=user_query, k=5)\n",
    "print(\n",
    "    \"\\n==================================Top 1 document==================================\"\n",
    ")\n",
    "print(retrieved_docs[0].page_content)\n",
    "print(\"==================================Metadata==================================\")\n",
    "print(retrieved_docs[0].metadata)\n",
    "print(\n",
    "    \"\\n==================================Top 2 document==================================\"\n",
    ")\n",
    "print(retrieved_docs[1].page_content)\n",
    "print(\"==================================Metadata==================================\")\n",
    "print(retrieved_docs[1].metadata)"
   ]
  }
 ],
 "metadata": {
  "kernelspec": {
   "display_name": "pytorch",
   "language": "python",
   "name": "python3"
  },
  "language_info": {
   "codemirror_mode": {
    "name": "ipython",
    "version": 3
   },
   "file_extension": ".py",
   "mimetype": "text/x-python",
   "name": "python",
   "nbconvert_exporter": "python",
   "pygments_lexer": "ipython3",
   "version": "3.11.11"
  }
 },
 "nbformat": 4,
 "nbformat_minor": 5
}
