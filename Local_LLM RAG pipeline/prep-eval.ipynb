{
 "cells": [
  {
   "cell_type": "code",
   "execution_count": 3,
   "metadata": {},
   "outputs": [],
   "source": [
    "import pandas as pd\n",
    "from langchain_core.documents import Document as LangchainDocument\n",
    "from langchain_huggingface import HuggingFaceEmbeddings\n",
    "from langchain_community.vectorstores import FAISS\n",
    "from langchain_text_splitters import RecursiveCharacterTextSplitter\n",
    "from langchain_community.vectorstores.utils import DistanceStrategy\n",
    "from sentence_transformers import SentenceTransformer\n",
    "from transformers import (\n",
    "    Pipeline,\n",
    "    AutoTokenizer,\n",
    "    AutoModelForCausalLM,\n",
    "    AutoModelForQuestionAnswering,\n",
    "    BitsAndBytesConfig,\n",
    "    DefaultDataCollator,\n",
    "    TrainingArguments,\n",
    "    Trainer,\n",
    ")\n",
    "\n",
    "import matplotlib.pyplot as plt\n",
    "from tqdm.notebook import tqdm\n",
    "from typing import List, Optional\n",
    "import pickle\n",
    "import time"
   ]
  },
  {
   "cell_type": "code",
   "execution_count": 4,
   "metadata": {},
   "outputs": [],
   "source": [
    "test_data= pd.read_json(\"../qa/wikipedia-dev.json\")"
   ]
  },
  {
   "cell_type": "code",
   "execution_count": 5,
   "metadata": {},
   "outputs": [
    {
     "name": "stdout",
     "output_type": "stream",
     "text": [
      "Test set size: 7993\n"
     ]
    }
   ],
   "source": [
    "print(f\"Test set size: {len(test_data)}\")"
   ]
  },
  {
   "cell_type": "code",
   "execution_count": 6,
   "metadata": {},
   "outputs": [],
   "source": [
    "#Build a list of docs from the downloaded Wikipedia documents\n",
    "def getDocs(examples):\n",
    "    # List of docs\n",
    "    docs = []\n",
    "    # Extracting metadata and filenames from the examples (training data)\n",
    "    for example in examples[\"Data\"]:\n",
    "        filename = example[\"EntityPages\"][0][\"Filename\"]\n",
    "        with open(f\"..//evidence/wikipedia/{filename}\", \"r\") as file:\n",
    "            context_text = file.read()\n",
    "        # Create a Document for RAG\n",
    "        newDoc = LangchainDocument(\n",
    "                metadata={\n",
    "                    'question_id': example['QuestionId'],\n",
    "                    'source': example['EntityPages'][0]['DocSource'],\n",
    "                    'answer_type': example['Answer']['Type'],\n",
    "                    'entity_name': example['Answer'].get('NormalizedValue', ''), # Default to empty string if missing\n",
    "                    'aliases': example['Answer'].get('Aliases', []), # Default to empty list if missing\n",
    "                    'normalized_value': example['Answer'].get('NormalizedValue', ''), # Default to empty string if missing\n",
    "                    'filename': example['EntityPages'][0]['Filename'],\n",
    "                },\n",
    "                page_content=context_text\n",
    "        )\n",
    "        docs.append(newDoc)\n",
    "    return docs"
   ]
  },
  {
   "cell_type": "code",
   "execution_count": 7,
   "metadata": {},
   "outputs": [],
   "source": [
    "RAW_KNOWLEDGE_BASE = getDocs(test_data)"
   ]
  },
  {
   "cell_type": "code",
   "execution_count": 8,
   "metadata": {},
   "outputs": [
    {
     "name": "stdout",
     "output_type": "stream",
     "text": [
      "Starting document processing...\n",
      "Loading tokenizer...\n",
      "Tokenizer loaded in 0.14 seconds\n",
      "Creating text splitter...\n",
      "Text splitter created in 0.00 seconds\n",
      "Processing 7993 documents...\n"
     ]
    },
    {
     "data": {
      "application/vnd.jupyter.widget-view+json": {
       "model_id": "e56d8c267ddf4580be2f0ffd27056198",
       "version_major": 2,
       "version_minor": 0
      },
      "text/plain": [
       "Splitting documents:   0%|          | 0/7993 [00:00<?, ?it/s]"
      ]
     },
     "metadata": {},
     "output_type": "display_data"
    },
    {
     "name": "stdout",
     "output_type": "stream",
     "text": [
      "Created 124666 chunks from 7993 documents\n",
      "Removing duplicates...\n"
     ]
    },
    {
     "data": {
      "application/vnd.jupyter.widget-view+json": {
       "model_id": "42a2a30c263a4cc0b7cca5d9240dd19d",
       "version_major": 2,
       "version_minor": 0
      },
      "text/plain": [
       "Removing duplicates:   0%|          | 0/124666 [00:00<?, ?it/s]"
      ]
     },
     "metadata": {},
     "output_type": "display_data"
    },
    {
     "name": "stdout",
     "output_type": "stream",
     "text": [
      "Removed 44304 duplicate chunks in 0.17 seconds\n",
      "Final document count: 80362 chunks\n"
     ]
    }
   ],
   "source": [
    "# Function to split the documents into chunks with TQDM progress bars\n",
    "EMBEDDING_MODEL_NAME = \"thenlper/gte-small\"\n",
    "def split_documents(\n",
    "    chunk_size: int,\n",
    "    knowledge_base: List[LangchainDocument],\n",
    "    tokenizer_name: Optional[str] = EMBEDDING_MODEL_NAME,\n",
    ") -> List[LangchainDocument]:\n",
    "    \"\"\"\n",
    "    Split documents into chunks of maximum size `chunk_size` tokens and return a list of documents.\n",
    "    Shows progress using TQDM.\n",
    "    \"\"\"\n",
    "    print(\"Loading tokenizer...\")\n",
    "    start_time = time.time()\n",
    "    tokenizer = AutoTokenizer.from_pretrained(tokenizer_name)\n",
    "    print(f\"Tokenizer loaded in {time.time() - start_time:.2f} seconds\")\n",
    "    \n",
    "    TRIVIAQA_SEPARATORS = [\n",
    "        \"\\n\\n\",  # Paragraph breaks\n",
    "        \"\\n\",    # Line breaks\n",
    "        \". \",    # Sentences\n",
    "        \"? \",    # Questions\n",
    "        \"! \",    # Exclamations\n",
    "        \"; \",    # Semicolons\n",
    "        \": \",    # Colons\n",
    "        \", \",    # Commas\n",
    "        \" \",     # Words\n",
    "        \"\"       # Characters\n",
    "    ]\n",
    "    \n",
    "    print(\"Creating text splitter...\")\n",
    "    start_time = time.time()\n",
    "    text_splitter = RecursiveCharacterTextSplitter.from_huggingface_tokenizer(\n",
    "        tokenizer,\n",
    "        chunk_size=chunk_size,\n",
    "        chunk_overlap=int(chunk_size / 10),\n",
    "        add_start_index=True,\n",
    "        strip_whitespace=True,\n",
    "        separators=TRIVIAQA_SEPARATORS,\n",
    "    )\n",
    "    print(f\"Text splitter created in {time.time() - start_time:.2f} seconds\")\n",
    "    \n",
    "    docs_processed = []\n",
    "    print(f\"Processing {len(knowledge_base)} documents...\")\n",
    "    \n",
    "    # Using tqdm to show progress\n",
    "    for doc in tqdm(knowledge_base, desc=\"Splitting documents\"):\n",
    "        chunks = text_splitter.split_documents([doc])\n",
    "        docs_processed.extend(chunks)\n",
    "    \n",
    "    print(f\"Created {len(docs_processed)} chunks from {len(knowledge_base)} documents\")\n",
    "    \n",
    "    # Remove duplicates with progress bar\n",
    "    print(\"Removing duplicates...\")\n",
    "    start_time = time.time()\n",
    "    unique_texts = {}\n",
    "    docs_processed_unique = []\n",
    "    \n",
    "    for doc in tqdm(docs_processed, desc=\"Removing duplicates\"):\n",
    "        if doc.page_content not in unique_texts:\n",
    "            unique_texts[doc.page_content] = True\n",
    "            docs_processed_unique.append(doc)\n",
    "    \n",
    "    print(f\"Removed {len(docs_processed) - len(docs_processed_unique)} duplicate chunks in {time.time() - start_time:.2f} seconds\")\n",
    "    print(f\"Final document count: {len(docs_processed_unique)} chunks\")\n",
    "    \n",
    "    return docs_processed_unique\n",
    "\n",
    "# Processing the RAW_KNOWLEDGE_BASE (validation_data)\n",
    "print(\"Starting document processing...\")\n",
    "overall_start_time = time.time()\n",
    "\n",
    "docs_processed = split_documents(\n",
    "    512,  # We choose a chunk size adapted to our model\n",
    "    RAW_KNOWLEDGE_BASE,\n",
    "    tokenizer_name=EMBEDDING_MODEL_NAME,\n",
    ")\n",
    "\n"
   ]
  },
  {
   "cell_type": "code",
   "execution_count": 9,
   "metadata": {},
   "outputs": [
    {
     "data": {
      "application/vnd.jupyter.widget-view+json": {
       "model_id": "4248bb1e32164382abebe9f31d4c129a",
       "version_major": 2,
       "version_minor": 0
      },
      "text/plain": [
       "  0%|          | 0/80362 [00:00<?, ?it/s]"
      ]
     },
     "metadata": {},
     "output_type": "display_data"
    },
    {
     "data": {
      "image/png": "[encoded data removed]",
      "text/plain": [
       "<Figure size 640x480 with 1 Axes>"
      ]
     },
     "metadata": {},
     "output_type": "display_data"
    }
   ],
   "source": [
    "with open(\"test_data_saved/test_docs_processed.pkl\", \"wb\") as file:\n",
    "    pickle.dump(docs_processed, file)\n",
    "tokenizer = AutoTokenizer.from_pretrained(EMBEDDING_MODEL_NAME)\n",
    "lengths = [len(tokenizer.encode(doc.page_content)) for doc in tqdm(docs_processed)]\n",
    "fig = pd.Series(lengths).hist()\n",
    "plt.title(\"Distribution of document lengths in the knowledge base (in count of tokens)\")\n",
    "plt.show()"
   ]
  },
  {
   "cell_type": "code",
   "execution_count": 10,
   "metadata": {},
   "outputs": [],
   "source": [
    "EMBEDDING_MODEL_NAME = \"thenlper/gte-small\"\n",
    "embedding_model = HuggingFaceEmbeddings(\n",
    "    model_name=EMBEDDING_MODEL_NAME,\n",
    "    multi_process=True,\n",
    "    model_kwargs={\"device\": \"cuda\"},\n",
    "    encode_kwargs={\"normalize_embeddings\": True},  # Set `True` for cosine similarity\n",
    ")"
   ]
  },
  {
   "cell_type": "code",
   "execution_count": 11,
   "metadata": {},
   "outputs": [],
   "source": [
    "KNOWLEDGE_VECTOR_DATABASE = FAISS.from_documents(docs_processed, embedding_model, distance_strategy=DistanceStrategy.COSINE)"
   ]
  },
  {
   "cell_type": "code",
   "execution_count": 12,
   "metadata": {},
   "outputs": [],
   "source": [
    "faiss_index_path = \"test_data_saved/Faiss\"\n",
    "KNOWLEDGE_VECTOR_DATABASE.save_local(faiss_index_path)"
   ]
  },
  {
   "cell_type": "code",
   "execution_count": 15,
   "metadata": {},
   "outputs": [
    {
     "name": "stdout",
     "output_type": "stream",
     "text": [
      "\n",
      "Starting retrieval for user_query='Who was the American President when the Berlin Wall was constructed?'...\n",
      "\n",
      "==================================Top 1 document==================================\n",
      "On June 26, President Kennedy gave a public speech in West Berlin reiterating the American commitment to Germany and criticizing communism. He was met with an ecstatic response from a massive audience.\n",
      "\n",
      "Kennedy used the construction of the Berlin Wall as an example of the failures of communism: \"Freedom has many difficulties, and democracy is not perfect. But we have never had to put a wall up to keep our people in, to prevent them from leaving us.\" The speech is known for its famous phrase \"Ich bin ein Berliner\" (\"I am a citizen of Berlin\"). A million people were on the street for the speech. He remarked to Ted Sorensen afterwards: \"We'll never have another day like this one, as long as we live.\"\n",
      "\n",
      "Israel\n",
      "\n",
      "In 1960, Kennedy stated: \"Israel will endure and flourish. It is the child of hope and the home of the brave. It can neither be broken by adversity nor demoralized by success. It carries the shield of democracy and it honors the sword of freedom\". \n",
      "\n",
      "Subsequently as president, Kennedy initiated the creation of security ties with Israel, and he is credited as the founder of the US-Israeli military alliance (which would be continued under subsequent presidents). Kennedy ended the arms embargo that the Eisenhower and Truman administrations had enforced on Israel. Describing the protection of Israel as a moral and national commitment, he was the first to introduce the concept of a 'special relationship' (as he described it to Golda Meir) between the US and Israel. \n",
      "\n",
      "Kennedy extended the first informal security guarantees to Israel in 1962 and, beginning in 1963, was the first US president to allow the sale to Israel of advanced US weaponry (the MIM-23 Hawk), as well as to provide diplomatic support for Israeli policies which were opposed by Arab neighbours; such as its water project on the Jordan River.\n",
      "==================================Metadata==================================\n",
      "{'question_id': 'tc_2299', 'source': 'TagMe', 'answer_type': 'WikipediaEntity', 'entity_name': 'shot', 'aliases': ['Shot (unit)', 'Shot', 'Shot (drink)', 'Shot (beverage)', 'Shot (disambiguation)', 'Shot (alcohol)', 'SHOT'], 'normalized_value': 'shot', 'filename': 'John_F._Kennedy.txt', 'start_index': -1}\n",
      "\n",
      "==================================Top 2 document==================================\n",
      "Bruce Springsteen, 1988\n",
      "\n",
      "On 19 July 1988, 16 months before the Wall came down, Bruce Springsteen and the E-Street Band, played Rocking the Wall, a live concert in East-Berlin, which was attended by 300,000 in person and broadcast delayed on television. Springsteen spoke to the crowd in German, saying: \"I'm not here for or against any government. I've come to play rock 'n' roll for you in the hope that one day all the barriers will be torn down\".  East Germany and its FDJ youth organization were worried they were losing an entire generation. They hoped that by letting Springsteen in, they could improve their sentiment among East Germans. However, this strategy of \"one step backwards, two steps forwards\" backfired and the concert only made East Germans hungrier for more of the freedoms that Springsteen epitomized. While John F. Kennedy and Ronald Reagan delivered their famous speeches from the safety of West Berlin, Springsteen's speaking out against the Wall in the middle of East Berlin added to the euphoria.\n",
      "\n",
      "\"Ich bin ein Berliner\" and \"Mr. Gorbachev, tear down this Wall.\"\n",
      "\n",
      "22 months after the erection of the Berlin Wall, on 26 June 1963, U.S. President John F. Kennedy visited West-Berlin. Speaking from a platform erected on the steps of Rathaus Schöneberg for an audience of 450,000 he declared in his Ich bin ein Berliner speech the support of the United States for West Germany and the people of West-Berlin in particular:\n",
      "\n",
      "The message was aimed as much at the Soviets as it was at Berliners and was a clear statement of U.S. policy in the wake of the construction of the Berlin Wall. The speech is considered one of Kennedy's best, both a notable moment of the Cold War and a high point of the New Frontier. It was a great morale boost for West Berliners, who lived in an exclave deep inside East Germany and feared a possible East German occupation.\n",
      "\n",
      "In a speech at the Brandenburg Gate commemorating the 750th anniversary of Berlin  on 12 June 1987, U.S. President Ronald Reagan challenged Mikhail Gorbachev, then the General Secretary of the Communist Party of the Soviet Union, to tear down the Wall as a symbol of increasing freedom in the Eastern Bloc:\n",
      "\n",
      "Fall of the Wall\n",
      "==================================Metadata==================================\n",
      "{'question_id': 'qz_135', 'source': 'TagMe', 'answer_type': 'WikipediaEntity', 'entity_name': 'john f kennedy', 'aliases': ['JFK', 'J.F.K', 'J.F.K. Administration', 'Kennedy administration', 'JFK (President)', 'J.F. Kennedy', 'J. F. Kennedy', 'John f kennedy', 'John fitzgerald kennady', 'John Kennedy', \"My God, I'm hit\", 'John F.Kennedy', 'Kennedyesque', 'JFK administration', 'President John F. Kennedy', 'Jack Kennedy', 'John F Kennedy', '35th President of the United States', 'JF Kennedy', 'Kennedy Administration', 'President John Kennedy', 'John f kenedy', 'John F. Kennedy', 'J.F.K.', 'JFK (president)', 'Jfk', 'Jhon F Kennedy', 'John F. Kennedy and civil rights', 'John f. kennedy', 'J F Kennedy', 'J. F. K.', 'John Fitzgerald %22Jack%22 Kennedy', 'Camelot era', 'John f. kenedy', 'John Fitzgerald Kennedy', 'Kennedy, John F.', 'John f k', 'Kennedy era', 'President Kennedy', 'Early years of john f. kennedy', 'John F. %22Jack%22 Kennedy', 'J F K', 'Eponyms of John F. Kennedy', 'U.S. President J.F. Kennedy', 'President John F Kennedy', 'John F. Kennedie', 'Kennedyism', 'Senator John F. Kennedy'], 'normalized_value': 'john f kennedy', 'filename': 'Berlin_Wall.txt', 'start_index': 39190}\n",
      "\n",
      "==================================Top 3 document==================================\n",
      "The transcript of a telephone call between Nikita Khrushchev and Ulbricht on 1 August in the same year, suggests that the initiative for the construction of the Wall came from Khrushchev.   However, other sources suggest that Khrushchev had initially been wary about building a wall, fearing negative Western reaction. What is beyond dispute, though, is that Ulbricht had pushed for a border closure for quite some time, arguing that East Germany's very existence was at stake.\n",
      "\n",
      "Khrushchev had been emboldened by US President John F. Kennedy’s tacit indication that the US would not actively oppose this action in the Soviet sector of Berlin.  On Saturday, 12 August 1961, the leaders of the GDR attended a garden party at a government guesthouse in , in a wooded area to the north of East Berlin. There  signed the order to close the border and erect a wall.\n",
      "\n",
      "At midnight, the police and units of the East German army began to close the border and, by Sunday morning, 13 August, the border with West Berlin was closed. East German troops and workers had begun to tear up streets running alongside the border to make them impassable to most vehicles and to install barbed wire entanglements and fences along the 156 km around the three western sectors, and the 43 km that divided West and East Berlin.\n",
      "\n",
      "The barrier was built inside East Berlin or East German territory to ensure that it did not encroach on West Berlin at any point.  Generally, the Wall was only slightly inside East Berlin, but in a few places it was some distance from the legal border, most notably at Potsdamer Bahnhof  and the Lenné Triangle  that is now much of the Potsdamer Platz development.\n",
      "\n",
      "Later, the initial barrier was built up into the Wall proper, the first concrete elements and large blocks being put in place on 17 August. During the construction of the Wall, National People's Army (NVA) and Combat Groups of the Working Class (KdA) soldiers stood in front of it with orders to shoot anyone who attempted to defect. Additionally, chain fences, walls, minefields and other obstacles were installed along the length of East Germany's western border with West Germany proper. A huge no man's land was cleared to provide a clear line of fire at fleeing refugees. \n",
      "\n",
      "Immediate effects\n",
      "==================================Metadata==================================\n",
      "{'question_id': 'qz_135', 'source': 'TagMe', 'answer_type': 'WikipediaEntity', 'entity_name': 'john f kennedy', 'aliases': ['JFK', 'J.F.K', 'J.F.K. Administration', 'Kennedy administration', 'JFK (President)', 'J.F. Kennedy', 'J. F. Kennedy', 'John f kennedy', 'John fitzgerald kennady', 'John Kennedy', \"My God, I'm hit\", 'John F.Kennedy', 'Kennedyesque', 'JFK administration', 'President John F. Kennedy', 'Jack Kennedy', 'John F Kennedy', '35th President of the United States', 'JF Kennedy', 'Kennedy Administration', 'President John Kennedy', 'John f kenedy', 'John F. Kennedy', 'J.F.K.', 'JFK (president)', 'Jfk', 'Jhon F Kennedy', 'John F. Kennedy and civil rights', 'John f. kennedy', 'J F Kennedy', 'J. F. K.', 'John Fitzgerald %22Jack%22 Kennedy', 'Camelot era', 'John f. kenedy', 'John Fitzgerald Kennedy', 'Kennedy, John F.', 'John f k', 'Kennedy era', 'President Kennedy', 'Early years of john f. kennedy', 'John F. %22Jack%22 Kennedy', 'J F K', 'Eponyms of John F. Kennedy', 'U.S. President J.F. Kennedy', 'President John F Kennedy', 'John F. Kennedie', 'Kennedyism', 'Senator John F. Kennedy'], 'normalized_value': 'john f kennedy', 'filename': 'Berlin_Wall.txt', 'start_index': 13905}\n"
     ]
    }
   ],
   "source": [
    "user_query = \"Who was the American President when the Berlin Wall was constructed?\"\n",
    "\n",
    "print(f\"\\nStarting retrieval for {user_query=}...\")\n",
    "retrieved_docs = KNOWLEDGE_VECTOR_DATABASE.similarity_search(query=user_query, k=5)\n",
    "\n",
    "for i in range(3):\n",
    "    print(f\"\\n==================================Top {i+1} document==================================\")\n",
    "    print(retrieved_docs[i].page_content)\n",
    "    print(\"==================================Metadata==================================\")\n",
    "    print(retrieved_docs[i].metadata)\n"
   ]
  }
 ],
 "metadata": {
  "kernelspec": {
   "display_name": "pytorch",
   "language": "python",
   "name": "python3"
  },
  "language_info": {
   "codemirror_mode": {
    "name": "ipython",
    "version": 3
   },
   "file_extension": ".py",
   "mimetype": "text/x-python",
   "name": "python",
   "nbconvert_exporter": "python",
   "pygments_lexer": "ipython3",
   "version": "3.11.11"
  }
 },
 "nbformat": 4,
 "nbformat_minor": 2
}
