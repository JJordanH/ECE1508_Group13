{
 "cells": [
  {
   "cell_type": "code",
   "execution_count": 6,
   "metadata": {},
   "outputs": [],
   "source": [
    "import pandas as pd\n",
    "from langchain_core.documents import Document as LangchainDocument\n",
    "from langchain_huggingface import HuggingFaceEmbeddings\n",
    "from langchain_community.vectorstores import FAISS\n",
    "from langchain_text_splitters import RecursiveCharacterTextSplitter\n",
    "from langchain_community.vectorstores.utils import DistanceStrategy\n",
    "from sentence_transformers import SentenceTransformer\n",
    "from transformers import (\n",
    "    Pipeline,\n",
    "    AutoTokenizer,\n",
    "    AutoModelForCausalLM,\n",
    "    AutoModelForQuestionAnswering,\n",
    "    BitsAndBytesConfig,\n",
    "    DefaultDataCollator,\n",
    "    TrainingArguments,\n",
    "    Trainer,\n",
    ")\n",
    "\n",
    "import matplotlib.pyplot as plt\n",
    "from tqdm.notebook import tqdm\n",
    "from typing import List, Optional\n",
    "import pickle"
   ]
  },
  {
   "cell_type": "code",
   "execution_count": 24,
   "metadata": {},
   "outputs": [],
   "source": [
    "train_data = pd.read_json(\"../qa/wikipedia-train.json\")\n",
    "\n",
    "# Split the data: first 1000 questions for dev\n",
    "validation_data = train_data.iloc[:7900]\n",
    "\n",
    "# Split the data: first 300 questions for final test\n",
    "test_data= pd.read_json(\"../qa/wikipedia-dev.json\")\n"
   ]
  },
  {
   "cell_type": "code",
   "execution_count": 25,
   "metadata": {},
   "outputs": [
    {
     "name": "stdout",
     "output_type": "stream",
     "text": [
      "Training set size: 7900\n",
      "Test set size: 7993\n"
     ]
    }
   ],
   "source": [
    "print(f\"Training set size: {len(validation_data)}\")\n",
    "print(f\"Test set size: {len(test_data)}\")"
   ]
  },
  {
   "cell_type": "code",
   "execution_count": 26,
   "metadata": {},
   "outputs": [
    {
     "data": {
      "text/html": [
       "<div>\n",
       "<style scoped>\n",
       "    .dataframe tbody tr th:only-of-type {\n",
       "        vertical-align: middle;\n",
       "    }\n",
       "\n",
       "    .dataframe tbody tr th {\n",
       "        vertical-align: top;\n",
       "    }\n",
       "\n",
       "    .dataframe thead th {\n",
       "        text-align: right;\n",
       "    }\n",
       "</style>\n",
       "<table border=\"1\" class=\"dataframe\">\n",
       "  <thead>\n",
       "    <tr style=\"text-align: right;\">\n",
       "      <th></th>\n",
       "      <th>Data</th>\n",
       "      <th>Domain</th>\n",
       "      <th>Split</th>\n",
       "      <th>VerifiedEval</th>\n",
       "      <th>Version</th>\n",
       "    </tr>\n",
       "  </thead>\n",
       "  <tbody>\n",
       "    <tr>\n",
       "      <th>0</th>\n",
       "      <td>{'Answer': {'Aliases': ['Park Grove (1895)', '...</td>\n",
       "      <td>Wikipedia</td>\n",
       "      <td>train</td>\n",
       "      <td>False</td>\n",
       "      <td>1</td>\n",
       "    </tr>\n",
       "    <tr>\n",
       "      <th>1</th>\n",
       "      <td>{'Answer': {'Aliases': ['Portogało', 'Republic...</td>\n",
       "      <td>Wikipedia</td>\n",
       "      <td>train</td>\n",
       "      <td>False</td>\n",
       "      <td>1</td>\n",
       "    </tr>\n",
       "    <tr>\n",
       "      <th>2</th>\n",
       "      <td>{'Answer': {'Aliases': ['Chi-Beria', 'Sayre la...</td>\n",
       "      <td>Wikipedia</td>\n",
       "      <td>train</td>\n",
       "      <td>False</td>\n",
       "      <td>1</td>\n",
       "    </tr>\n",
       "  </tbody>\n",
       "</table>\n",
       "</div>"
      ],
      "text/plain": [
       "                                                Data     Domain  Split  \\\n",
       "0  {'Answer': {'Aliases': ['Park Grove (1895)', '...  Wikipedia  train   \n",
       "1  {'Answer': {'Aliases': ['Portogało', 'Republic...  Wikipedia  train   \n",
       "2  {'Answer': {'Aliases': ['Chi-Beria', 'Sayre la...  Wikipedia  train   \n",
       "\n",
       "   VerifiedEval  Version  \n",
       "0         False        1  \n",
       "1         False        1  \n",
       "2         False        1  "
      ]
     },
     "execution_count": 26,
     "metadata": {},
     "output_type": "execute_result"
    }
   ],
   "source": [
    "validation_data.head(3)"
   ]
  },
  {
   "cell_type": "code",
   "execution_count": 27,
   "metadata": {},
   "outputs": [],
   "source": [
    "#Build a list of docs from the downloaded Wikipedia documents\n",
    "def getDocs(examples):\n",
    "    # List of docs\n",
    "    docs = []\n",
    "    # Extracting metadata and filenames from the examples (training data)\n",
    "    for example in examples[\"Data\"]:\n",
    "        filename = example[\"EntityPages\"][0][\"Filename\"]\n",
    "        with open(f\"..//evidence/wikipedia/{filename}\", \"r\") as file:\n",
    "            context_text = file.read()\n",
    "        # Create a Document for RAG\n",
    "        newDoc = LangchainDocument(\n",
    "                metadata={\n",
    "                    'question_id': example['QuestionId'],\n",
    "                    'source': example['EntityPages'][0]['DocSource'],\n",
    "                    'answer_type': example['Answer']['Type'],\n",
    "                    'entity_name': example['Answer'].get('NormalizedValue', ''), # Default to empty string if missing\n",
    "                    'aliases': example['Answer'].get('Aliases', []), # Default to empty list if missing\n",
    "                    'normalized_value': example['Answer'].get('NormalizedValue', ''), # Default to empty string if missing\n",
    "                    'filename': example['EntityPages'][0]['Filename'],\n",
    "                },\n",
    "                page_content=context_text\n",
    "        )\n",
    "        docs.append(newDoc)\n",
    "    return docs"
   ]
  },
  {
   "cell_type": "code",
   "execution_count": 28,
   "metadata": {},
   "outputs": [
    {
     "data": {
      "text/plain": [
       "[{'DocSource': 'TagMe', 'Filename': 'England.txt', 'Title': 'England'},\n",
       " {'DocSource': 'TagMe', 'Filename': 'Judi_Dench.txt', 'Title': 'Judi Dench'}]"
      ]
     },
     "execution_count": 28,
     "metadata": {},
     "output_type": "execute_result"
    }
   ],
   "source": [
    "validation_data[\"Data\"].iloc[0][\"EntityPages\"]"
   ]
  },
  {
   "cell_type": "code",
   "execution_count": 29,
   "metadata": {},
   "outputs": [],
   "source": [
    "RAW_KNOWLEDGE_BASE = getDocs(validation_data)"
   ]
  },
  {
   "cell_type": "code",
   "execution_count": 37,
   "metadata": {},
   "outputs": [
    {
     "name": "stdout",
     "output_type": "stream",
     "text": [
      "Starting document processing...\n",
      "Loading tokenizer...\n",
      "Tokenizer loaded in 0.10 seconds\n",
      "Creating text splitter...\n",
      "Text splitter created in 0.00 seconds\n",
      "Processing 7900 documents...\n"
     ]
    },
    {
     "data": {
      "application/vnd.jupyter.widget-view+json": {
       "model_id": "fecff6abf4a54112b072653203d60d70",
       "version_major": 2,
       "version_minor": 0
      },
      "text/plain": [
       "Splitting documents:   0%|          | 0/7900 [00:00<?, ?it/s]"
      ]
     },
     "metadata": {},
     "output_type": "display_data"
    },
    {
     "name": "stdout",
     "output_type": "stream",
     "text": [
      "Created 125208 chunks from 7900 documents\n",
      "Removing duplicates...\n"
     ]
    },
    {
     "data": {
      "application/vnd.jupyter.widget-view+json": {
       "model_id": "77dcb274bc8b40e98bfb672f376554b3",
       "version_major": 2,
       "version_minor": 0
      },
      "text/plain": [
       "Removing duplicates:   0%|          | 0/125208 [00:00<?, ?it/s]"
      ]
     },
     "metadata": {},
     "output_type": "display_data"
    },
    {
     "name": "stdout",
     "output_type": "stream",
     "text": [
      "Removed 50025 duplicate chunks in 0.20 seconds\n",
      "Final document count: 75183 chunks\n"
     ]
    }
   ],
   "source": [
    "# Function to split the documents into chunks with TQDM progress bars\n",
    "EMBEDDING_MODEL_NAME = \"thenlper/gte-small\"\n",
    "def split_documents(\n",
    "    chunk_size: int,\n",
    "    knowledge_base: List[LangchainDocument],\n",
    "    tokenizer_name: Optional[str] = EMBEDDING_MODEL_NAME,\n",
    ") -> List[LangchainDocument]:\n",
    "    \"\"\"\n",
    "    Split documents into chunks of maximum size `chunk_size` tokens and return a list of documents.\n",
    "    Shows progress using TQDM.\n",
    "    \"\"\"\n",
    "    print(\"Loading tokenizer...\")\n",
    "    start_time = time.time()\n",
    "    tokenizer = AutoTokenizer.from_pretrained(tokenizer_name)\n",
    "    print(f\"Tokenizer loaded in {time.time() - start_time:.2f} seconds\")\n",
    "    \n",
    "    TRIVIAQA_SEPARATORS = [\n",
    "        \"\\n\\n\",  # Paragraph breaks\n",
    "        \"\\n\",    # Line breaks\n",
    "        \". \",    # Sentences\n",
    "        \"? \",    # Questions\n",
    "        \"! \",    # Exclamations\n",
    "        \"; \",    # Semicolons\n",
    "        \": \",    # Colons\n",
    "        \", \",    # Commas\n",
    "        \" \",     # Words\n",
    "        \"\"       # Characters\n",
    "    ]\n",
    "    \n",
    "    print(\"Creating text splitter...\")\n",
    "    start_time = time.time()\n",
    "    text_splitter = RecursiveCharacterTextSplitter.from_huggingface_tokenizer(\n",
    "        tokenizer,\n",
    "        chunk_size=chunk_size,\n",
    "        chunk_overlap=int(chunk_size / 10),\n",
    "        add_start_index=True,\n",
    "        strip_whitespace=True,\n",
    "        separators=TRIVIAQA_SEPARATORS,\n",
    "    )\n",
    "    print(f\"Text splitter created in {time.time() - start_time:.2f} seconds\")\n",
    "    \n",
    "    docs_processed = []\n",
    "    print(f\"Processing {len(knowledge_base)} documents...\")\n",
    "    \n",
    "    # Using tqdm to show progress\n",
    "    for doc in tqdm(knowledge_base, desc=\"Splitting documents\"):\n",
    "        chunks = text_splitter.split_documents([doc])\n",
    "        docs_processed.extend(chunks)\n",
    "    \n",
    "    print(f\"Created {len(docs_processed)} chunks from {len(knowledge_base)} documents\")\n",
    "    \n",
    "    # Remove duplicates with progress bar\n",
    "    print(\"Removing duplicates...\")\n",
    "    start_time = time.time()\n",
    "    unique_texts = {}\n",
    "    docs_processed_unique = []\n",
    "    \n",
    "    for doc in tqdm(docs_processed, desc=\"Removing duplicates\"):\n",
    "        if doc.page_content not in unique_texts:\n",
    "            unique_texts[doc.page_content] = True\n",
    "            docs_processed_unique.append(doc)\n",
    "    \n",
    "    print(f\"Removed {len(docs_processed) - len(docs_processed_unique)} duplicate chunks in {time.time() - start_time:.2f} seconds\")\n",
    "    print(f\"Final document count: {len(docs_processed_unique)} chunks\")\n",
    "    \n",
    "    return docs_processed_unique\n",
    "\n",
    "# Processing the RAW_KNOWLEDGE_BASE (validation_data)\n",
    "print(\"Starting document processing...\")\n",
    "overall_start_time = time.time()\n",
    "\n",
    "docs_processed = split_documents(\n",
    "    512,  # We choose a chunk size adapted to our model\n",
    "    RAW_KNOWLEDGE_BASE,\n",
    "    tokenizer_name=EMBEDDING_MODEL_NAME,\n",
    ")\n",
    "\n"
   ]
  },
  {
   "cell_type": "code",
   "execution_count": 41,
   "metadata": {},
   "outputs": [
    {
     "data": {
      "application/vnd.jupyter.widget-view+json": {
       "model_id": "93af279cf64b4679a6bb70a0cb097eef",
       "version_major": 2,
       "version_minor": 0
      },
      "text/plain": [
       "  0%|          | 0/75183 [00:00<?, ?it/s]"
      ]
     },
     "metadata": {},
     "output_type": "display_data"
    },
    {
     "data": {
      "image/png": "[encoded data removed]",
      "text/plain": [
       "<Figure size 640x480 with 1 Axes>"
      ]
     },
     "metadata": {},
     "output_type": "display_data"
    }
   ],
   "source": [
    "with open(\"docs_processed.pkl\", \"wb\") as file:\n",
    "    pickle.dump(docs_processed, file)\n",
    "tokenizer = AutoTokenizer.from_pretrained(EMBEDDING_MODEL_NAME)\n",
    "lengths = [len(tokenizer.encode(doc.page_content)) for doc in tqdm(docs_processed)]\n",
    "fig = pd.Series(lengths).hist()\n",
    "plt.title(\"Distribution of document lengths in the knowledge base (in count of tokens)\")\n",
    "plt.show()"
   ]
  },
  {
   "cell_type": "code",
   "execution_count": 40,
   "metadata": {},
   "outputs": [
    {
     "data": {
      "text/plain": [
       "75183"
      ]
     },
     "execution_count": 40,
     "metadata": {},
     "output_type": "execute_result"
    }
   ],
   "source": [
    "# The total number of chunks we have\n",
    "len(docs_processed)"
   ]
  },
  {
   "cell_type": "code",
   "execution_count": 4,
   "metadata": {},
   "outputs": [],
   "source": [
    "EMBEDDING_MODEL_NAME = \"thenlper/gte-small\"\n",
    "embedding_model = HuggingFaceEmbeddings(\n",
    "    model_name=EMBEDDING_MODEL_NAME,\n",
    "    multi_process=True,\n",
    "    model_kwargs={\"device\": \"cuda\"},\n",
    "    encode_kwargs={\"normalize_embeddings\": True},  # Set `True` for cosine similarity\n",
    ")"
   ]
  },
  {
   "cell_type": "code",
   "execution_count": 63,
   "metadata": {},
   "outputs": [],
   "source": [
    "# only run once and save the faiss db\n",
    "#KNOWLEDGE_VECTOR_DATABASE = FAISS.from_documents(docs_processed, embedding_model, distance_strategy=DistanceStrategy.COSINE)"
   ]
  },
  {
   "cell_type": "code",
   "execution_count": 57,
   "metadata": {},
   "outputs": [],
   "source": [
    "#faiss_index_path = \"knowledge_vector_database-validation\"\n",
    "#KNOWLEDGE_VECTOR_DATABASE.save_local(faiss_index_path)"
   ]
  },
  {
   "cell_type": "code",
   "execution_count": 58,
   "metadata": {},
   "outputs": [
    {
     "name": "stdout",
     "output_type": "stream",
     "text": [
      "75183\n"
     ]
    }
   ],
   "source": [
    "# taotal length of the chunks stored in this vector db\n",
    "#print(len(KNOWLEDGE_VECTOR_DATABASE.docstore._dict))"
   ]
  },
  {
   "cell_type": "code",
   "execution_count": 10,
   "metadata": {},
   "outputs": [],
   "source": [
    "# Load the pre-created vector database\n",
    "faiss_index_path = \"knowledge_vector_database-validation\"\n",
    "KNOWLEDGE_VECTOR_DATABASE = FAISS.load_local(faiss_index_path, embedding_model, allow_dangerous_deserialization=True)"
   ]
  },
  {
   "cell_type": "code",
   "execution_count": 11,
   "metadata": {},
   "outputs": [
    {
     "name": "stdout",
     "output_type": "stream",
     "text": [
      "Total documents: 75183\n",
      "Sample chunk text:\n",
      "England is a country that is part of the United Kingdom.   It shares land borders with Scotland to the north and Wales to the west. The Irish Sea lies northwest of England and the Celtic Sea lies to the southwest. England is separated from continental Europe by the North Sea to the east and the English Channel to the south. The country covers much of the central and southern part of the island of Great Britain, which lies in the North Atlantic; and includes over 100 smaller islands such as the Isles of Scilly, and the Isle of Wight.\n",
      "\n",
      "The area now called England was first inhabited by modern humans during the Upper Palaeolithic period, but takes its name from the Angles, one of the Germanic tribes who settled during the 5th and 6th centuries. England became a unified state in the 10th century, and since the Age of Discovery, which began during the 15th century, has had a significant cultural and legal impact on the wider world.  The English language, the Anglican Church, and English law – the basis for the common law legal systems of many other countries around the world – developed in England, and the country's parliamentary system of government has been widely adopted by other nations.  The Industrial Revolution began in 18th-century England, transforming its society into the world's first industrialised nation.\n"
     ]
    }
   ],
   "source": [
    "# Get all docstore IDs\n",
    "doc_ids = list(KNOWLEDGE_VECTOR_DATABASE.docstore._dict.keys())\n",
    "print(f\"Total documents: {len(doc_ids)}\")\n",
    "\n",
    "# Pick one document ID (e.g., first)\n",
    "doc_id = doc_ids[0]\n",
    "doc = KNOWLEDGE_VECTOR_DATABASE.docstore._dict[doc_id]\n",
    "\n",
    "print(\"Sample chunk text:\")\n",
    "print(doc.page_content)"
   ]
  },
  {
   "cell_type": "code",
   "execution_count": 12,
   "metadata": {},
   "outputs": [
    {
     "name": "stdout",
     "output_type": "stream",
     "text": [
      "Embedding vector (first 10 values):\n",
      "[ 0.00019079 -0.02058171  0.0605572  -0.04565329  0.05302824  0.01984793\n",
      "  0.05352763  0.01497101  0.01897604 -0.01272711]\n",
      "Vector dimension: 384\n"
     ]
    }
   ],
   "source": [
    "vector = KNOWLEDGE_VECTOR_DATABASE.index.reconstruct(0)  # 0 = first chunk\n",
    "\n",
    "print(\"Embedding vector (first 10 values):\")\n",
    "print(vector[:10])  # just show the first 10 dimensions\n",
    "print(\"Vector dimension:\", len(vector))"
   ]
  },
  {
   "cell_type": "code",
   "execution_count": 13,
   "metadata": {},
   "outputs": [],
   "source": [
    "user_query = \"Which Mediterranean island was once known as Alashiya?\"\n",
    "query_vector = embedding_model.embed_query(user_query)"
   ]
  },
  {
   "cell_type": "code",
   "execution_count": 14,
   "metadata": {},
   "outputs": [
    {
     "name": "stdout",
     "output_type": "stream",
     "text": [
      "\n",
      "Starting retrieval for user_query='Which Mediterranean island was once known as Alashiya?'...\n",
      "\n",
      "==================================Top 1 document==================================\n",
      "The Balearic Islands (; ;    ) are an archipelago of Spain in the western Mediterranean Sea, near the eastern coast of the Iberian Peninsula.\n",
      "\n",
      "The four largest islands are Majorca, Minorca, Ibiza and Formentera. There are many minor islands and islets close to the larger islands, including Cabrera, Dragonera and S'Espalmador. The islands have a Mediterranean climate, and the four major islands are all popular tourist destinations. Ibiza in particular is known as an international party destination, attracting many of the world's most popular DJs to its nightclubs.  The islands' culture and cuisine are similar to that of the rest of Spain.\n",
      "\n",
      "The archipelago forms an autonomous community and a province of Spain, with Palma de Mallorca as the capital. The 2007 Statute of Autonomy declares the Balearic Islands as one nationality of Spain.  The co-official languages in the Balearic Islands are Catalan and Spanish. Though now a part of Spain, throughout history the Balearic Islands have been under the rule of a number of different kingdoms and countries.\n",
      "\n",
      "Etymology \n",
      "\n",
      "The official name of the Balearic Islands in Catalan is Illes Balears, while in Spanish they are known as the Islas Baleares. The term \"Balearic\" derives from Greek (/Gymnesiae and /Balliareis).  In Latin (Baleares).\n",
      "\n",
      "Of the various theories on the origins of the two ancient Greek and Latin names for the islands—Gymnasiae and Baleares—classical sources provide two.\n",
      "\n",
      "According to the Lycophron's Alexandra verses, the islands were called /Gymnesiae (/gymnos, meaning naked in Greek) because its inhabitants were often nude, probably because of the year-round benevolent climate.\n",
      "==================================Metadata==================================\n",
      "{'question_id': 'qz_390', 'source': 'TagMe', 'answer_type': 'WikipediaEntity', 'entity_name': 'ibiza', 'aliases': ['Ebusus', 'Abiza', 'Iviza', 'Ivisa', 'Ibiza', 'Eivissa', 'Ibiza, spain', 'Ibiza (island)', 'Ibiza, Spain', 'Ibicencan', 'Elvissa', 'Ibitha', 'Ibiza music'], 'normalized_value': 'ibiza', 'filename': 'Balearic_Islands.txt', 'start_index': 0}\n",
      "\n",
      "==================================Top 2 document==================================\n",
      "The sea was an important route for merchants and travelers of ancient times that allowed for trade and cultural exchange between emergent peoples of the region. The history of the Mediterranean region is crucial to understanding the origins and development of many modern societies.\n",
      "\n",
      "The countries with coastlines on the Mediterranean Sea are Albania, Algeria, Bosnia-Herzegovina, Croatia, Cyprus, Egypt, France, Greece, Israel, Italy, Lebanon, Libya, Malta, Morocco, Monaco, Montenegro,  Slovenia, Spain, Syria, Tunisia and Turkey. In addition, Palestine's Gaza Strip and the British Overseas Territories of Gibraltar and Akrotiri and Dhekelia have coastlines on the sea.\n",
      "\n",
      "Name\n",
      "\n",
      "The term Mediterranean derives from the Latin word mediterraneus, meaning \"amid the earth (note: earth in the sense \"soil\", not Planet Earth)\" or \"between land\" (medi-; adj. medius, -um -a \"middle, between\" + terra f., \"land, earth\"): as it is between the continents of Africa, Asia and Europe. The Ancient Greek name Mesogeios (Μεσόγειος), is similarly from μέσο, \"between\" + γη, \"land, earth\").  It can be compared with the Ancient Greek name Mesopotamia (Μεσοποταμία), meaning \"between rivers\".\n",
      "\n",
      "The Mediterranean Sea has historically had several names. For example, the Carthaginians called it the \"Syrian Sea\" and latter Romans commonly called it Mare Nostrum (Latin, \"Our Sea\"), and occasionally Mare Internum (Sallust, Jug. 17).\n",
      "==================================Metadata==================================\n",
      "{'question_id': 'tc_205', 'source': 'TagMe', 'answer_type': 'WikipediaEntity', 'entity_name': 'suez canal', 'aliases': ['Suez Canal Zone', 'Suez Channel', 'Suez canal', 'Nile Canal', 'Suez Canal', 'Suez Canal (Egypt)', \"Egypt's Canal Zone\", 'The suez canal'], 'normalized_value': 'suez canal', 'filename': 'Mediterranean_Sea.txt', 'start_index': -1}\n"
     ]
    }
   ],
   "source": [
    "print(f\"\\nStarting retrieval for {user_query=}...\")\n",
    "retrieved_docs = KNOWLEDGE_VECTOR_DATABASE.similarity_search(query=user_query, k=5)\n",
    "print(\n",
    "    \"\\n==================================Top 1 document==================================\"\n",
    ")\n",
    "print(retrieved_docs[0].page_content)\n",
    "print(\"==================================Metadata==================================\")\n",
    "print(retrieved_docs[0].metadata)\n",
    "print(\n",
    "    \"\\n==================================Top 2 document==================================\"\n",
    ")\n",
    "print(retrieved_docs[1].page_content)\n",
    "print(\"==================================Metadata==================================\")\n",
    "print(retrieved_docs[1].metadata)"
   ]
  },
  {
   "cell_type": "code",
   "execution_count": 1,
   "metadata": {},
   "outputs": [
    {
     "name": "stdout",
     "output_type": "stream",
     "text": [
      "INFO 04-03 19:43:06 [__init__.py:239] Automatically detected platform cuda.\n"
     ]
    }
   ],
   "source": [
    "from vllm import LLM, SamplingParams"
   ]
  },
  {
   "cell_type": "code",
   "execution_count": 2,
   "metadata": {},
   "outputs": [
    {
     "name": "stdout",
     "output_type": "stream",
     "text": [
      "INFO 04-03 19:43:17 [config.py:585] This model supports multiple tasks: {'score', 'embed', 'generate', 'classify', 'reward'}. Defaulting to 'generate'.\n",
      "INFO 04-03 19:43:18 [awq_marlin.py:118] Detected that the model can run with awq_marlin, however you specified quantization=awq explicitly, so forcing awq. Use quantization=awq_marlin for faster inference\n",
      "WARNING 04-03 19:43:18 [config.py:664] awq quantization is not fully optimized yet. The speed can be slower than non-quantized models.\n",
      "INFO 04-03 19:43:18 [config.py:1697] Chunked prefill is enabled with max_num_batched_tokens=8192.\n",
      "WARNING 04-03 19:43:18 [cuda.py:95] To see benefits of async output processing, enable CUDA graph. Since, enforce-eager is enabled, async output processor cannot be used\n",
      "INFO 04-03 19:43:18 [core.py:54] Initializing a V1 LLM engine (v0.8.2) with config: model='AMead10/Llama-3.2-3B-Instruct-AWQ', speculative_config=None, tokenizer='AMead10/Llama-3.2-3B-Instruct-AWQ', skip_tokenizer_init=False, tokenizer_mode=auto, revision=None, override_neuron_config=None, tokenizer_revision=None, trust_remote_code=True, dtype=torch.float16, max_seq_len=4096, download_dir=None, load_format=LoadFormat.AUTO, tensor_parallel_size=1, pipeline_parallel_size=1, disable_custom_all_reduce=False, quantization=awq, enforce_eager=True, kv_cache_dtype=auto,  device_config=cuda, decoding_config=DecodingConfig(guided_decoding_backend='xgrammar', reasoning_backend=None), observability_config=ObservabilityConfig(show_hidden_metrics=False, otlp_traces_endpoint=None, collect_model_forward_time=False, collect_model_execute_time=False), seed=None, served_model_name=AMead10/Llama-3.2-3B-Instruct-AWQ, num_scheduler_steps=1, multi_step_stream_outputs=True, enable_prefix_caching=True, chunked_prefill_enabled=True, use_async_output_proc=False, disable_mm_preprocessor_cache=False, mm_processor_kwargs=None, pooler_config=None, compilation_config={\"splitting_ops\":[],\"compile_sizes\":[],\"cudagraph_capture_sizes\":[],\"max_capture_size\":0}\n",
      "WARNING 04-03 19:43:19 [utils.py:2321] Methods determine_num_available_blocks,device_config,get_cache_block_size_bytes,initialize_cache not implemented in <vllm.v1.worker.gpu_worker.Worker object at 0x7f49de399f90>\n",
      "INFO 04-03 19:43:20 [parallel_state.py:954] rank 0 in world size 1 is assigned as DP rank 0, PP rank 0, TP rank 0\n",
      "WARNING 04-03 19:43:20 [interface.py:303] Using 'pin_memory=False' as WSL is detected. This may slow down the performance.\n",
      "INFO 04-03 19:43:20 [cuda.py:220] Using Flash Attention backend on V1 engine.\n",
      "INFO 04-03 19:43:20 [gpu_model_runner.py:1174] Starting to load model AMead10/Llama-3.2-3B-Instruct-AWQ...\n",
      "WARNING 04-03 19:43:21 [topk_topp_sampler.py:63] FlashInfer is not available. Falling back to the PyTorch-native implementation of top-p & top-k sampling. For the best performance, please install FlashInfer.\n",
      "INFO 04-03 19:43:21 [weight_utils.py:265] Using model weights format ['*.safetensors']\n",
      "INFO 04-03 19:43:21 [weight_utils.py:315] No model.safetensors.index.json found in remote.\n"
     ]
    },
    {
     "data": {
      "application/vnd.jupyter.widget-view+json": {
       "model_id": "eb157a7e8409449f820a8a305d5663e6",
       "version_major": 2,
       "version_minor": 0
      },
      "text/plain": [
       "Loading safetensors checkpoint shards:   0% Completed | 0/1 [00:00<?, ?it/s]\n"
      ]
     },
     "metadata": {},
     "output_type": "display_data"
    },
    {
     "name": "stdout",
     "output_type": "stream",
     "text": [
      "INFO 04-03 19:43:24 [loader.py:447] Loading weights took 3.05 seconds\n",
      "INFO 04-03 19:43:24 [gpu_model_runner.py:1186] Model loading took 2.1366 GB and 3.735280 seconds\n",
      "INFO 04-03 19:43:27 [kv_cache_utils.py:566] GPU KV cache size: 13,056 tokens\n",
      "INFO 04-03 19:43:27 [kv_cache_utils.py:569] Maximum concurrency for 4,096 tokens per request: 3.19x\n",
      "INFO 04-03 19:43:27 [core.py:151] init engine (profile, create kv cache, warmup model) took 2.82 seconds\n"
     ]
    }
   ],
   "source": [
    "READER_MODEL_NAME = \"AMead10/Llama-3.2-3B-Instruct-AWQ\"\n",
    "model = LLM( \n",
    "    model = READER_MODEL_NAME,\n",
    "    quantization=\"awq\",\n",
    "    tensor_parallel_size=1, \n",
    "    gpu_memory_utilization=0.95, \n",
    "    trust_remote_code=True,\n",
    "    enforce_eager=True,\n",
    "    max_model_len=4096,\n",
    "    disable_log_stats=True\n",
    ")\n",
    "\n",
    "tokenizer = model.get_tokenizer()"
   ]
  },
  {
   "cell_type": "code",
   "execution_count": 3,
   "metadata": {},
   "outputs": [],
   "source": [
    "sampling_params = SamplingParams(\n",
    "    n = 1,\n",
    "    top_p=0.9,\n",
    "    temperature=0,\n",
    "    repetition_penalty=1.2,\n",
    "    max_tokens=5,     # Maximum number of tokens\n",
    ")"
   ]
  },
  {
   "cell_type": "code",
   "execution_count": 4,
   "metadata": {},
   "outputs": [
    {
     "name": "stdout",
     "output_type": "stream",
     "text": [
      "<|begin_of_text|><|start_header_id|>system<|end_header_id|>\n",
      "\n",
      "Cutting Knowledge Date: December 2023\n",
      "Today Date: 03 Apr 2025\n",
      "\n",
      "Answer the question with only one word or the simplest possible response (e.g., a single number or a single word).\n",
      "Do NOT generate sentences, explanations, or additional context.\n",
      "Stop immediately after providing the answer. Do not generate any further words or tokens.\n",
      "If the context does not provide any useful information, answer the question based on your own knowledge.\n",
      "I am going to provide you five examples:\n",
      "\n",
      "Question: What is the capital of Kenya?\n",
      "Answer: Nairobi\n",
      "---\n",
      "Question: What was the name of the pig leader in George Orwell's Animal Farm?\n",
      "Answer: Napoleon\n",
      "---\n",
      "Question: Which artist created the Katzenjammer Kids?\n",
      "Answer: Rudolph Dirks\n",
      "---\n",
      "Question: Who was Geena Davis's husband when they made the loss-maker Cutthroat Island?\n",
      "Answer: Renny Harlin\n",
      "---\n",
      "Question: Who was married to Spandau Ballet's Gary Kemp and later to Jude Law?\n",
      "Answer: Sadie Frost<|eot_id|><|start_header_id|>user<|end_header_id|>\n",
      "\n",
      "Context:\n",
      "{context}\n",
      "---\n",
      "Now here is the question you need to answer.\n",
      "\n",
      "Question: {question}<|eot_id|><|start_header_id|>assistant<|end_header_id|>\n",
      "\n",
      "\n"
     ]
    }
   ],
   "source": [
    "prompt_in_chat_format = [\n",
    "    {\n",
    "        \"role\": \"system\",\n",
    "        \"content\": \"\"\"Answer the question with only one word or the simplest possible response (e.g., a single number or a single word).\n",
    "Do NOT generate sentences, explanations, or additional context.\n",
    "Stop immediately after providing the answer. Do not generate any further words or tokens.\n",
    "If the context does not provide any useful information, answer the question based on your own knowledge.\n",
    "I am going to provide you five examples:\n",
    "\n",
    "Question: What is the capital of Kenya?\n",
    "Answer: Nairobi\n",
    "---\n",
    "Question: What was the name of the pig leader in George Orwell's Animal Farm?\n",
    "Answer: Napoleon\n",
    "---\n",
    "Question: Which artist created the Katzenjammer Kids?\n",
    "Answer: Rudolph Dirks\n",
    "---\n",
    "Question: Who was Geena Davis's husband when they made the loss-maker Cutthroat Island?\n",
    "Answer: Renny Harlin\n",
    "---\n",
    "Question: Who was married to Spandau Ballet's Gary Kemp and later to Jude Law?\n",
    "Answer: Sadie Frost\n",
    "\n",
    "\"\"\"\n",
    "    },\n",
    "    {\n",
    "        \"role\": \"user\",\n",
    "        \"content\": \"\"\"Context:\n",
    "{context}\n",
    "---\n",
    "Now here is the question you need to answer.\n",
    "\n",
    "Question: {question}\"\"\"\n",
    "    },\n",
    "]\n",
    "\n",
    "RAG_PROMPT_TEMPLATE = tokenizer.apply_chat_template(\n",
    "    prompt_in_chat_format, tokenize=False, add_generation_prompt=True\n",
    ")\n",
    "print(RAG_PROMPT_TEMPLATE)"
   ]
  },
  {
   "cell_type": "code",
   "execution_count": 7,
   "metadata": {},
   "outputs": [],
   "source": [
    "# Load the pre-created vector database\n",
    "faiss_index_path = \"knowledge_vector_database-validation\"\n",
    "EMBEDDING_MODEL_NAME = \"thenlper/gte-small\"\n",
    "embedding_model = HuggingFaceEmbeddings(\n",
    "    model_name=EMBEDDING_MODEL_NAME,\n",
    "    multi_process=True,\n",
    "    model_kwargs={\"device\": \"cuda\"},\n",
    "    encode_kwargs={\"normalize_embeddings\": True},  # Set `True` for cosine similarity\n",
    ")\n",
    "KNOWLEDGE_VECTOR_DATABASE = FAISS.load_local(faiss_index_path, embedding_model, allow_dangerous_deserialization=True)"
   ]
  },
  {
   "cell_type": "code",
   "execution_count": 8,
   "metadata": {},
   "outputs": [
    {
     "name": "stderr",
     "output_type": "stream",
     "text": [
      "Processed prompts: 100%|██████████| 1/1 [00:00<00:00,  2.55it/s, est. speed input: 4275.91 toks/s, output: 10.24 toks/s]"
     ]
    },
    {
     "name": "stdout",
     "output_type": "stream",
     "text": [
      "Question: 'Which Lloyd Webber musical premiered in the US on 10th December 1993?'\n",
      "Prompt: '<|begin_of_text|><|start_header_id|>system<|end_header_id|>\\n\\nCutting Knowledge Date: December 2023\\nToday Date: 03 Apr 2025\\n\\nAnswer the question with only one word or the simplest possible response (e.g., a single number or a single word).\\nDo NOT generate sentences, explanations, or additional context.\\nStop immediately after providing the answer. Do not generate any further words or tokens.\\nIf the context does not provide any useful information, answer the question based on your own knowledge.\\nI am going to provide you five examples:\\n\\nQuestion: What is the capital of Kenya?\\nAnswer: Nairobi\\n---\\nQuestion: What was the name of the pig leader in George Orwell\\'s Animal Farm?\\nAnswer: Napoleon\\n---\\nQuestion: Which artist created the Katzenjammer Kids?\\nAnswer: Rudolph Dirks\\n---\\nQuestion: Who was Geena Davis\\'s husband when they made the loss-maker Cutthroat Island?\\nAnswer: Renny Harlin\\n---\\nQuestion: Who was married to Spandau Ballet\\'s Gary Kemp and later to Jude Law?\\nAnswer: Sadie Frost<|eot_id|><|start_header_id|>user<|end_header_id|>\\n\\nContext:\\n\\nExtracted documents:\\nDocument 0:::\\nAndrew Lloyd Webber, Baron Lloyd-Webber   (born 22 March 1948) is an English composer and impresario of musical theatre. \\n\\nSeveral of his musicals have run for more than a decade both in the West End and on Broadway. He has composed 13 musicals, a song cycle, a set of variations, two film scores, and a Latin Requiem Mass. Several of his songs have been widely recorded and were hits outside of their parent musicals, notably \"The Music of the Night\" from The Phantom of the Opera, \"I Don\\'t Know How to Love Him\" from Jesus Christ Superstar, \"Don\\'t Cry for Me, Argentina\" and \"You Must Love Me\" from Evita, \"Any Dream Will Do\" from Joseph and the Amazing Technicolor Dreamcoat and \"Memory\" from Cats.\\n\\nHe has received a number of awards, including a knighthood in 1992, followed by a peerage from Queen Elizabeth II for services to Music, seven Tonys, three Grammys (as well as the Grammy Legend Award), an Academy Award, fourteen Ivor Novello Awards, seven Olivier Awards, a Golden Globe, a Brit Award, the 2006 Kennedy Center Honors, and the 2008 Classic Brit Award for Outstanding Contribution to Music.    He has a star on the Hollywood Walk of Fame, is an inductee into the Songwriter\\'s Hall of Fame, and is a fellow of the British Academy of Songwriters, Composers and Authors. \\n\\nHis company, the Really Useful Group, is one of the largest theatre operators in London. Producers in several parts of the UK have staged productions, including national tours, of the Lloyd Webber musicals under licence from the Really Useful Group. Lloyd Webber is also the president of the Arts Educational Schools London, a performing arts school located in Chiswick, West London. He is involved in a number of charitable activities, including the Elton John AIDS Foundation, Nordoff Robbins, Prostate Cancer UK and War Child. In 1992 he set up the Andrew Lloyd Webber Foundation which supports the arts, culture and heritage in the UK. \\n\\nEarly life\\n\\nAndrew Lloyd Webber was born in Kensington, London, the elder son of William Lloyd Webber (1914–1982), a composer and organist, and Jean Hermione Johnstone (1921–1993), a violinist and pianist.  His younger brother, Julian Lloyd Webber, is a renowned solo cellist.Document 1:::\\nAspects of Love followed in 1989, a musical based on the story by David Garnett. The lyrics were by Don Black and Charles Hart and the original production was directed by Trevor Nunn. Aspects had a run of four years in London, but closed after less than a year on Broadway. It has since gone on a tour of the UK.\\n\\n1990s\\n\\nLloyd Webber was asked to write a song for the 1992 Barcelona Olympics and composed \"Amigos Para Siempre\\xa0— Friends for Life\" with Don Black providing the lyrics. This song was performed by Sarah Brightman and José Carreras.\\n\\nLloyd Webber had toyed with the idea of writing a musical based on Billy Wilder\\'s critically acclaimed movie, Sunset Boulevard, since the early 1970s when he saw the film, but the project didn\\'t come to fruition until after the completion of Aspects of Love when the composer finally managed to secure the rights from Paramount Pictures,  The composer worked with two collaborators, as he had done on Aspects of Love; this time Christopher Hampton and Don Black shared equal credit for the book and lyrics. The show opened at the Adelphi Theatre in London on 12 July 1993, and ran for 1,529 performances. In spite of the show\\'s popularity and extensive run in London\\'s West End, it lost money due to the sheer expense of the production.\\n\\nIn 1994, Sunset Boulevard became a successful Broadway show, opening with the largest advance in Broadway history, and winning seven Tony Awards that year. Even so, by its closing in 1997, \"it had not recouped its reported $13\\xa0million investment.\" \\nFrom 1995-2000, Lloyd Webber wrote the Matters of Taste column in The Daily Telegraph where he reviewed restaurants and hotels, and these were illustrated by Lucinda Rogers. \\n\\nIn 1998, Lloyd Webber released a film version of \"Cats\", which was filmed at the Adelphi Theatre in London. David Mallet directed the film, and Gillian Lynne choreographed it. The cast consisted of performers who had been in the show before, including Ken Page (the original Old Deuteronomy on Broadway), Elaine Paige (original Grizabella in London) and Sir John Mills as Gus: the Theatre Cat.Document 2:::\\nLloyd Webber started writing his own music at a young age, a suite of six pieces at the age of nine. He also put on \"productions\" with Julian and his Aunt Viola in his toy theatre (which he built at Viola\\'s suggestion). Later, he would be the owner of a number of West End theatres, including the Palace. His aunt Viola, an actress, took him to see many of her shows and through the stage door into the world of the theatre. He also had originally set music to Old Possum\\'s Book of Practical Cats at the age of 15.\\n\\nIn 1965, Lloyd Webber was a Queen\\'s Scholar at Westminster School and studied history for a term at Magdalen College, Oxford, although he abandoned the course in Winter 1965 to study at the Royal College of Music and pursue his interest in musical theatre.  \\n\\nProfessional career\\n\\nEarly years\\n\\nLloyd Webber\\'s first collaboration with lyricist Tim Rice was The Likes of Us, a musical based on the true story of Thomas John Barnardo. Although composed in 1965, it was not publicly performed until 2005, when a production was staged at Lloyd Webber\\'s Sydmonton Festival. In 2008, amateur rights were released by the National Operatic and Dramatic Association (NODA) in association with the Really Useful Group. The first amateur performance was by a children\\'s theatre group in Cornwall called \"Kidz R Us\". Stylistically, The Likes of Us is fashioned after the Broadway musical of the 1940s and 1950s; it opens with a traditional overture comprising a medley of tunes from the show, and the score reflects some of Lloyd Webber\\'s early influences, particularly Richard Rodgers, Frederick Loewe, and Lionel Bart. In this respect, it is markedly different from the composer\\'s later work, which tends to be either predominantly or wholly through-composed, and closer in form to opera than to the Broadway musical.\\n---\\nNow here is the question you need to answer.\\n\\nQuestion: Which Lloyd Webber musical premiered in the US on 10th December 1993?<|eot_id|><|start_header_id|>assistant<|end_header_id|>\\n\\n'\n",
      "Generated text: 'Sunset Boulevard'\n"
     ]
    },
    {
     "name": "stderr",
     "output_type": "stream",
     "text": [
      "\n"
     ]
    }
   ],
   "source": [
    "\n",
    "question = \"Which Lloyd Webber musical premiered in the US on 10th December 1993?\"\n",
    "\n",
    "relevant_docs = KNOWLEDGE_VECTOR_DATABASE.similarity_search(question, k=3)\n",
    "relevant_docs = [doc.page_content for doc in relevant_docs]\n",
    "context = \"\\nExtracted documents:\\n\"\n",
    "context += \"\".join(\n",
    "            [f\"Document {str(i)}:::\\n\" + doc for i, doc in enumerate(relevant_docs)]\n",
    "        )\n",
    "\n",
    "prompt = [RAG_PROMPT_TEMPLATE.format(question = question, context = context)]\n",
    "outputs = model.generate(prompt, sampling_params)\n",
    "\n",
    "for output in outputs:\n",
    "    generated_text = output.outputs[0].text\n",
    "    prompt = output.prompt\n",
    "    print(f\"Question: {question!r}\")\n",
    "    print(f\"Prompt: {prompt!r}\")\n",
    "    print(f\"Generated text: {generated_text!r}\")"
   ]
  },
  {
   "cell_type": "code",
   "execution_count": null,
   "metadata": {},
   "outputs": [],
   "source": []
  }
 ],
 "metadata": {
  "kernelspec": {
   "display_name": "pytorch",
   "language": "python",
   "name": "python3"
  },
  "language_info": {
   "codemirror_mode": {
    "name": "ipython",
    "version": 3
   },
   "file_extension": ".py",
   "mimetype": "text/x-python",
   "name": "python",
   "nbconvert_exporter": "python",
   "pygments_lexer": "ipython3",
   "version": "3.11.11"
  }
 },
 "nbformat": 4,
 "nbformat_minor": 4
}
